{
  "nbformat": 4,
  "nbformat_minor": 0,
  "metadata": {
    "colab": {
      "provenance": [],
      "collapsed_sections": [],
      "authorship_tag": "ABX9TyPUFWgdzpEuhUErZ8seb4ht",
      "include_colab_link": true
    },
    "kernelspec": {
      "name": "python3",
      "display_name": "Python 3"
    },
    "language_info": {
      "name": "python"
    }
  },
  "cells": [
    {
      "cell_type": "markdown",
      "metadata": {
        "id": "view-in-github",
        "colab_type": "text"
      },
      "source": [
        "<a href=\"https://colab.research.google.com/github/karpagashivakumar/Task-1/blob/main/AI.ipynb\" target=\"_parent\"><img src=\"https://colab.research.google.com/assets/colab-badge.svg\" alt=\"Open In Colab\"/></a>"
      ]
    },
    {
      "cell_type": "markdown",
      "source": [
        "Dictionary"
      ],
      "metadata": {
        "id": "Zdg6oEgHVvij"
      }
    },
    {
      "cell_type": "code",
      "execution_count": 8,
      "metadata": {
        "colab": {
          "base_uri": "https://localhost:8080/"
        },
        "id": "ROYiXLJpVoN6",
        "outputId": "aa1c8502-8143-47e5-cb53-ccb97466eecd"
      },
      "outputs": [
        {
          "output_type": "stream",
          "name": "stdout",
          "text": [
            "{'Username': ['Shiva', 'Kumar'], 'Password': '12345678', 'Os': 'Windows', 'Ram': '256'}\n"
          ]
        }
      ],
      "source": [
        "Dict={\n",
        "    \"Username\":[\"Shiva\",\"Kumar\"],\n",
        "     \"Password\":\"12345678\",\n",
        "     \"Os\":\"Windows\",\n",
        "     \"Ram\":\"256\"\n",
        "}\n",
        "print(Dict)"
      ]
    },
    {
      "cell_type": "code",
      "source": [
        "print(Dict[\"Username\"])"
      ],
      "metadata": {
        "colab": {
          "base_uri": "https://localhost:8080/"
        },
        "id": "xazTufEfWuEq",
        "outputId": "21fba30a-87fe-48b6-efe5-3e4c568ad3f6"
      },
      "execution_count": 9,
      "outputs": [
        {
          "output_type": "stream",
          "name": "stdout",
          "text": [
            "['Shiva', 'Kumar']\n"
          ]
        }
      ]
    },
    {
      "cell_type": "code",
      "source": [
        "#update\n",
        "Dict[\"model\"]=55555\n",
        "print(Dict)"
      ],
      "metadata": {
        "colab": {
          "base_uri": "https://localhost:8080/"
        },
        "id": "e-NxmdU9W_UK",
        "outputId": "7fedd1d1-dd9b-4551-bd6d-6031fcec018c"
      },
      "execution_count": 10,
      "outputs": [
        {
          "output_type": "stream",
          "name": "stdout",
          "text": [
            "{'Username': ['Shiva', 'Kumar'], 'Password': '12345678', 'Os': 'Windows', 'Ram': '256', 'model': 55555}\n"
          ]
        }
      ]
    },
    {
      "cell_type": "code",
      "source": [
        "#Delete\n",
        "del Dict[\"Ram\"]\n",
        "print(Dict)"
      ],
      "metadata": {
        "colab": {
          "base_uri": "https://localhost:8080/"
        },
        "id": "BoCBbn9jXJgT",
        "outputId": "4cd99979-1399-4311-f42f-28b37226d70d"
      },
      "execution_count": 11,
      "outputs": [
        {
          "output_type": "stream",
          "name": "stdout",
          "text": [
            "{'Username': ['Shiva', 'Kumar'], 'Password': '12345678', 'Os': 'Windows', 'model': 55555}\n"
          ]
        }
      ]
    }
  ]
}